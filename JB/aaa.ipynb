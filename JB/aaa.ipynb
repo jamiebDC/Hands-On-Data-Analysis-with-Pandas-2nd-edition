{
 "cells": [
  {
   "cell_type": "code",
   "execution_count": 2,
   "source": [
    "str='abcd'\r\n",
    "\r\n",
    "'a' in str"
   ],
   "outputs": [
    {
     "output_type": "execute_result",
     "data": {
      "text/plain": [
       "True"
      ]
     },
     "metadata": {},
     "execution_count": 2
    }
   ],
   "metadata": {}
  },
  {
   "cell_type": "code",
   "execution_count": 4,
   "source": [
    "import pandas as pd\r\n",
    "df = pd.read_csv(r\"C:\\Users\\bussj\\OneDrive\\XPAND\\git\\NextPythonProject (not in github)\\Distro.csv\")\r\n",
    "#df = pd.read_csv('https://github.com/stefmolin/Hands-On-Data-Analysis-with-Pandas2nd-edition/blob/master/ch_02/data/earthquakes.csv?raw=True')\r\n",
    "print(df)\r\n"
   ],
   "outputs": [
    {
     "output_type": "stream",
     "name": "stdout",
     "text": [
      "   a a.1   1\n",
      "0  b  aa   3\n",
      "1  c   b  12\n",
      "2  d  bb  80\n",
      "3  e  ca   8\n",
      "4  f   d   2\n",
      "5  g   f  30\n"
     ]
    }
   ],
   "metadata": {}
  },
  {
   "cell_type": "code",
   "execution_count": null,
   "source": [],
   "outputs": [],
   "metadata": {}
  }
 ],
 "metadata": {
  "orig_nbformat": 4,
  "language_info": {
   "name": "python",
   "version": "3.8.5",
   "mimetype": "text/x-python",
   "codemirror_mode": {
    "name": "ipython",
    "version": 3
   },
   "pygments_lexer": "ipython3",
   "nbconvert_exporter": "python",
   "file_extension": ".py"
  },
  "kernelspec": {
   "name": "python3",
   "display_name": "Python 3.8.5 64-bit"
  },
  "interpreter": {
   "hash": "ebcbc18d8443ae769f61e111d7d1b6b07933c1c2294e6d4c76620c2c84e71db7"
  }
 },
 "nbformat": 4,
 "nbformat_minor": 2
}